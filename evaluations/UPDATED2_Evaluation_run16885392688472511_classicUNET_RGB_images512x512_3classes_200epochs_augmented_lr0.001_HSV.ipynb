{
 "cells": [
  {
   "cell_type": "code",
   "execution_count": 1,
   "metadata": {},
   "outputs": [],
   "source": [
    "import zipfile\n",
    "import os\n",
    "from PIL import Image\n",
    "import numpy as np\n",
    "import cv2\n",
    "from sklearn.model_selection import train_test_split\n",
    "import re\n",
    "import random\n",
    "import glob\n",
    "import matplotlib.pyplot as plt"
   ]
  },
  {
   "cell_type": "markdown",
   "metadata": {},
   "source": [
    "# Define directories"
   ]
  },
  {
   "cell_type": "code",
   "execution_count": 5,
   "metadata": {},
   "outputs": [
    {
     "data": {
      "text/plain": [
       "'\\nimages_folder_original = \"/media/lucap/big_data/datasets/repair/puzzle2D/motif_segmentation/MoFF/RGB\"\\nmasks_folder_original = \\'/media/lucap/big_data/datasets/repair/puzzle2D/motif_segmentation/MoFF/segmap3c\\'\\nimages_folder_BM_removed = \\'images_cropped/RGB_inpainted\\'\\n#masks_folder_BM_removed = \\'unzipped_dataset/cropped_resized_masks/\\'\\ntest_txt = \"/media/lucap/big_data/datasets/repair/puzzle2D/motif_segmentation/MoFF/test.txt\"\\nvalidation_txt = \"/media/lucap/big_data/datasets/repair/puzzle2D/motif_segmentation/MoFF/validation.txt\"\\ntrain_txt = \"/media/lucap/big_data/datasets/repair/puzzle2D/motif_segmentation/MoFF/train.txt\"\\npred_path = \"/home/lucap/code/fragment-restoration/runs/run9350223490688163_simplifiedUNET_RGB_images512x512_3classes_200epochs_augmented_lr0.001_HSV/results_simplified_UNET_512x512_test_set\"\\n'"
      ]
     },
     "execution_count": 5,
     "metadata": {},
     "output_type": "execute_result"
    }
   ],
   "source": [
    "\"\"\"\n",
    "images_folder_original = \"/media/lucap/big_data/datasets/repair/puzzle2D/motif_segmentation/MoFF/RGB\"\n",
    "masks_folder_original = '/media/lucap/big_data/datasets/repair/puzzle2D/motif_segmentation/MoFF/segmap3c'\n",
    "images_folder_BM_removed = 'images_cropped/RGB_inpainted'\n",
    "#masks_folder_BM_removed = 'unzipped_dataset/cropped_resized_masks/'\n",
    "test_txt = \"/media/lucap/big_data/datasets/repair/puzzle2D/motif_segmentation/MoFF/test.txt\"\n",
    "validation_txt = \"/media/lucap/big_data/datasets/repair/puzzle2D/motif_segmentation/MoFF/validation.txt\"\n",
    "train_txt = \"/media/lucap/big_data/datasets/repair/puzzle2D/motif_segmentation/MoFF/train.txt\"\n",
    "pred_path = \"/home/lucap/code/fragment-restoration/runs/run9350223490688163_simplifiedUNET_RGB_images512x512_3classes_200epochs_augmented_lr0.001_HSV/results_simplified_UNET_512x512_test_set\"\n",
    "\"\"\""
   ]
  },
  {
   "cell_type": "code",
   "execution_count": 6,
   "metadata": {},
   "outputs": [],
   "source": [
    "images_folder_original = \"images_cropped/RGB/\"\n",
    "masks_folder_original = 'gt-masks/segmap3c'\n",
    "images_folder_BM_removed = 'images_cropped/RGB_inpainted'\n",
    "#masks_folder_BM_removed = 'unzipped_dataset/cropped_resized_masks/'\n",
    "test_txt = \"train-val-test/test.txt\"\n",
    "validation_txt = \"train-val-test/validation.txt\"\n",
    "train_txt = \"train-val-test/train.txt\"\n",
    "pred_path = \"run16885392688472511_classicUNET_RGB_images512x512_3classes_200epochs_augmented_lr0.001_HSV/results_test_set/test_pred\""
   ]
  },
  {
   "cell_type": "markdown",
   "metadata": {},
   "source": [
    "# Load and preprocess data"
   ]
  },
  {
   "cell_type": "markdown",
   "metadata": {},
   "source": [
    "*Please check if the number of images, ground_truth masks and predicted masks are the same as mine."
   ]
  },
  {
   "cell_type": "code",
   "execution_count": 33,
   "metadata": {},
   "outputs": [
    {
     "name": "stdout",
     "output_type": "stream",
     "text": [
      "Number of images: 38\n",
      "Number of ground truth masks: 38\n",
      "Number of predicted masks: 38\n",
      "Unique pixel values in ground truth masks: {0, 1, 2}\n",
      "Unique pixel values in predicted masks: {0, 1, 2}\n",
      "Test images, test masks, and predicted test masks data loaded successfully in HSV color space.\n"
     ]
    }
   ],
   "source": [
    "def read_and_preprocess_images(image_dir, mask_dir, pred_dir, txt_file, color_space=\"HSV\", preprocessing=None):\n",
    "    images = []\n",
    "    masks = []\n",
    "    predicted_masks = []\n",
    "    new_size = (512, 512)\n",
    "\n",
    "    unique_values_gt = set()\n",
    "    unique_values_pred = set()\n",
    "\n",
    "    with open(txt_file, 'r') as file:\n",
    "        lines = file.readlines()\n",
    "\n",
    "        for line in lines:\n",
    "            line = line.strip().replace('\"', '')\n",
    "\n",
    "            img_path = os.path.join(image_dir, line)\n",
    "            mask_path = os.path.join(mask_dir, line)\n",
    "            pred_mask_path = os.path.join(pred_dir, line)\n",
    "\n",
    "            img = cv2.imread(img_path)\n",
    "            mask = Image.open(mask_path).convert(\"L\").resize(new_size)\n",
    "            pred_mask = Image.open(pred_mask_path).convert(\"L\").resize(new_size)\n",
    "\n",
    "            if color_space == \"HSV\":\n",
    "                img = cv2.cvtColor(img, cv2.COLOR_BGR2HSV)\n",
    "            else:\n",
    "                raise ValueError(f\"Invalid color space {color_space}\")\n",
    "\n",
    "            img = cv2.resize(img, new_size)\n",
    "\n",
    "            images.append(img)\n",
    "            masks.append(mask)\n",
    "            predicted_masks.append(pred_mask)\n",
    "\n",
    "            # Add all unique pixel values in the current mask to the respective sets\n",
    "            unique_values_gt.update(np.unique(mask))\n",
    "            unique_values_pred.update(np.unique(pred_mask))\n",
    "\n",
    "    print(f\"Number of images: {len(images)}\")\n",
    "    print(f\"Number of ground truth masks: {len(masks)}\")\n",
    "    print(f\"Number of predicted masks: {len(predicted_masks)}\")\n",
    "    print(f\"Unique pixel values in ground truth masks: {unique_values_gt}\")\n",
    "    print(f\"Unique pixel values in predicted masks: {unique_values_pred}\")\n",
    "\n",
    "    return images, masks, predicted_masks\n",
    "\n",
    "test_images_original, test_masks, test_pred_masks = read_and_preprocess_images(images_folder_original, masks_folder_original, pred_path, test_txt, color_space=\"HSV\")\n",
    "\n",
    "print(\"Test images, test masks, and predicted test masks data loaded successfully in HSV color space.\")"
   ]
  },
  {
   "cell_type": "markdown",
   "metadata": {},
   "source": [
    "# Define evaluation metrics (Tensorflow meanIOU multi_class and single_class)"
   ]
  },
  {
   "cell_type": "markdown",
   "metadata": {},
   "source": [
    "**CustomSingleClassMeanIoU:** This method creates a mask that identifies the pixels of interest, i.e., those belonging to the class of interest (self.class_index). Then, it multiplies both the ground truth (y_true) and predicted (y_pred) tensors with this mask. This effectively zero out all pixels that are not of the class of interest. However, it leaves the pixels of interest untouched, maintaining their original class value. The IoU is then calculated with these modified tensors.\n",
    "\n",
    "This could potentially lead to overestimation of IoU since the denominator (union) might be smaller than expected as it's only considering the pixels where the ground truth is the class of interest. Moreover, for the pixels not of the class of interest, since they are set to zero in both y_true and y_pred, they are treated as correct predictions (True Negatives). \n",
    "\n",
    "**CustomSingleClassMeanIoUAREF:** This method also creates a similar mask but uses it differently. It uses the tf.boolean_mask function to filter out the values in the ground truth and predicted tensors that correspond to the class of interest. In other words, rather than setting non-target classes to zero, it entirely excludes them from the calculation.\n",
    "\n",
    "In this case, we completely ignore the pixels that are not of the class of interest. The IoU is then calculated using only these selected pixels, effectively making the problem binary - pixels are either of the class of interest or not.\n",
    "\n",
    "\n",
    "**An example is provided to clearify the differances:**\n",
    "\n",
    "Let's say we have a 2x2 ground truth (gt) and prediction (pred) and the target class is 1. So, if we have:\n",
    "\n",
    "    gt = [[0, 1],\n",
    "       [1, 2]]\n",
    "\n",
    "    pred = [[1, 0],\n",
    "        [1, 2]]\n",
    "\n",
    "* CustomSingleClassMeanIoU:\n",
    "\n",
    "    The method creates a mask, applies it, and then calculates the intersection and union:\n",
    "    \n",
    "    mask = gt == 1 = [[False, True],\n",
    "                  [True, False]]\n",
    "                  \n",
    "\n",
    "    y_true_c2 = y_true * mask = [[0, 1],\n",
    "                             [1, 0]]\n",
    "\n",
    "    y_pred_c2 = y_pred * mask = [[0, 0],\n",
    "                             [1, 0]]\n",
    "\n",
    "    Intersection is where both y_true_c2 and y_pred_c2 are equal, and union is where either of them has a value. So,\n",
    "    \n",
    "        Intersection: 1 (the bottom left pixel)\n",
    "        Union: 3 (the bottom left, top right, and bottom right pixels)\n",
    "        IoU: Intersection / Union = 1/3 = 0.33\n",
    "    \n",
    "    \n",
    "* CustomSingleClassMeanIoUAREF:\n",
    "\n",
    "    This method creates a mask and filters out the non-matching pixels:\n",
    "    \n",
    "    mask = gt == 1 = [[False, True],\n",
    "                  [True, False]]\n",
    "\n",
    "    y_true_filtered = [1, 1]\n",
    "    \n",
    "    y_pred_filtered = [0, 1]\n",
    "\n",
    "    Intersection and union are then calculated from these filtered values:\n",
    "    \n",
    "        Intersection: 1 (second element of the lists)\n",
    "        Union: 2 (both elements in the lists)\n",
    "        IoU: Intersection / Union = 1/2 = 0.5\n",
    "\n"
   ]
  },
  {
   "cell_type": "code",
   "execution_count": 8,
   "metadata": {},
   "outputs": [],
   "source": [
    "import tensorflow as tf\n",
    "from tensorflow.keras.metrics import MeanIoU\n",
    "\n",
    "class CustomMeanIoU(MeanIoU):\n",
    "    def __init__(self, num_classes):\n",
    "        super().__init__(num_classes=num_classes)\n",
    "\n",
    "    def update_state(self, y_true, y_pred, sample_weight=None):\n",
    "        y_true = tf.argmax(y_true, axis=-1)\n",
    "        y_pred = tf.argmax(y_pred, axis=-1)\n",
    "        return super().update_state(y_true, y_pred, sample_weight)\n",
    "\n",
    "\n",
    "class CustomSingleClassMeanIoU(MeanIoU):\n",
    "    def __init__(self, num_classes, class_index):\n",
    "        super().__init__(num_classes=num_classes)\n",
    "        self.class_index = class_index\n",
    "\n",
    "    def update_state(self, y_true, y_pred, sample_weight=None):\n",
    "        y_true = tf.argmax(y_true, axis=-1)\n",
    "        y_pred = tf.argmax(y_pred, axis=-1)\n",
    "        \n",
    "        # Only consider y_true and y_pred where y_true is class_index\n",
    "        mask = tf.equal(y_true, self.class_index)\n",
    "        y_true_c2 = tf.math.multiply(y_true, tf.cast(mask, tf.int64))\n",
    "        y_pred_c2 = tf.math.multiply(y_pred, tf.cast(mask, tf.int64))\n",
    "\n",
    "        return super().update_state(y_true_c2, y_pred_c2, sample_weight)\n",
    "    \n",
    "class CustomSingleClassMeanIoUAREF(MeanIoU):\n",
    "    def __init__(self, num_classes, class_index):\n",
    "        super().__init__(num_classes=num_classes)\n",
    "        self.class_index = class_index\n",
    "\n",
    "    def update_state(self, y_true, y_pred, sample_weight=None):\n",
    "        y_true = tf.argmax(y_true, axis=-1)\n",
    "        y_pred = tf.argmax(y_pred, axis=-1)\n",
    "        \n",
    "        # Only consider y_true and y_pred where y_true is class_index\n",
    "        mask = tf.equal(y_true, self.class_index)\n",
    "        \n",
    "        return super().update_state(tf.boolean_mask(y_true, mask), tf.boolean_mask(y_pred, mask), sample_weight)\n",
    "    \n",
    "num_classes = 3\n",
    "single_class_metric = CustomSingleClassMeanIoU(num_classes, 2)\n",
    "single_class_metricAREF = CustomSingleClassMeanIoUAREF(num_classes, 2)"
   ]
  },
  {
   "cell_type": "markdown",
   "metadata": {},
   "source": [
    "# Calculate evaluation metrics (Tensorflow meanIOU multi_class and single_class)"
   ]
  },
  {
   "cell_type": "code",
   "execution_count": 9,
   "metadata": {},
   "outputs": [
    {
     "name": "stdout",
     "output_type": "stream",
     "text": [
      "Tensorflow IOU\n",
      "3 class Mean IOU: 0.9186064600944519\n",
      "Single class Mean IOU: 0.6533918380737305\n",
      "Single class Mean IOU AREF: 0.3202303349971771\n",
      "Manually Computed\n",
      "3 class Mean IOU: 0.9779473020319353\n",
      "Single class Mean IOU: 0.9390014498136893\n"
     ]
    }
   ],
   "source": [
    "# Convert to tensors and one-hot encode the masks\n",
    "test_masks_tensor = tf.convert_to_tensor([np.array(m) for m in test_masks])\n",
    "test_pred_masks_tensor = tf.convert_to_tensor([np.array(m) for m in test_pred_masks])\n",
    "\n",
    "test_masks_tensor = tf.one_hot(test_masks_tensor, num_classes)\n",
    "test_pred_masks_tensor = tf.one_hot(test_pred_masks_tensor, num_classes)\n",
    "\n",
    "print(\"Tensorflow IOU\")\n",
    "\n",
    "# Compute 3 class mean IOU\n",
    "meanIOU = CustomMeanIoU(num_classes)\n",
    "meanIOU.update_state(test_masks_tensor, test_pred_masks_tensor)\n",
    "print(f\"3 class Mean IOU: {meanIOU.result().numpy()}\")\n",
    "\n",
    "# Compute single class mean IOU\n",
    "class_index = 2\n",
    "single_class_metric = CustomSingleClassMeanIoU(num_classes, class_index)\n",
    "single_class_metric.update_state(test_masks_tensor, test_pred_masks_tensor)\n",
    "print(f\"Single class Mean IOU: {single_class_metric.result().numpy()}\")\n",
    "single_class_metricAREF = CustomSingleClassMeanIoUAREF(num_classes, class_index)\n",
    "single_class_metricAREF.update_state(test_masks_tensor, test_pred_masks_tensor)\n",
    "print(f\"Single class Mean IOU AREF: {single_class_metricAREF.result().numpy()}\")\n",
    "\n",
    "manual_iou = []\n",
    "manual_iou_single_class = []\n",
    "for pred, gt in zip(test_pred_masks_tensor, test_masks_tensor):\n",
    "    pred = pred.numpy() * 2\n",
    "    gt = gt.numpy() * 2\n",
    "#     print('pred',np.mean(pred))\n",
    "#     print('gt',np.mean(gt))\n",
    "    inters = np.sum((gt == pred))\n",
    "    union = np.sum(gt > -1)\n",
    "    inters_motif = np.sum(((gt==2)*(pred==2)>0))\n",
    "    union_motif = np.sum(((gt==2)+(pred==2))>0)\n",
    "    manual_iou.append(inters/union)\n",
    "    manual_iou_single_class.append(inters_motif/union_motif)\n",
    "\n",
    "manual_iou = np.asarray(manual_iou)\n",
    "manual_iou_single_class = np.asarray(manual_iou_single_class)\n",
    "print(\"Manually Computed\")\n",
    "print(f\"3 class Mean IOU: {np.mean(manual_iou)}\")\n",
    "print(f\"Single class Mean IOU: {np.mean(manual_iou_single_class)}\")"
   ]
  },
  {
   "cell_type": "markdown",
   "metadata": {},
   "source": [
    "# UPDATED Manual computation of meanIOU"
   ]
  },
  {
   "cell_type": "markdown",
   "metadata": {},
   "source": [
    "**The manual IoU** calculation I am performing here is fundamentally different from the other two methods in the sense that instead of modifying or filtering the ground truth and predictions based on the target class, I create a boolean mask that identifies where both the ground truth and prediction match the target class.\n",
    "In this method, boolean masks are created where the predicted and true class are equal to the class of interest. These masks are used to calculate the intersection (both masks are true) and the union (either mask is true).\n",
    "* In other words, I consider the problem as a binary problem (similar to \"CustomSingleClassMeanIoUAREF\"). However, instead of directly using the class labels, I use boolean masks.\n",
    "* The main differance is unlike the first two methods, this calculation doesn't modify the original prediction and ground truth or exclude any pixels.\n",
    "* My personal opinion, this approach gives a direct and intuitive calculation and has the most similarity to text-book calculation of meanIOU. So I would choose this one as our evaluation metric in table 2.\n",
    "\n",
    "**The example in previous mardown cell is continued here to calrify this method:**\n",
    "\n",
    "We had a 2x2 ground truth (gt) and prediction (pred) and the target class was 1. SO:\n",
    "\n",
    "    gt = [[0, 1],\n",
    "       [1, 2]]\n",
    "\n",
    "    pred = [[1, 0],\n",
    "        [1, 2]]\n",
    "    \n",
    "This method calculates intersection and union for pixels that match the target class:\n",
    "\n",
    "    pred_single_class = pred == 1 = [[True, False],\n",
    "                                     [True, False]]\n",
    "\n",
    "    gt_single_class = gt == 1 = [[False, True],\n",
    "                                 [True, False]]\n",
    "\n",
    "    inters_single_class = pred_single_class & gt_single_class = [[False, False],\n",
    "                                                                 [True, False]]\n",
    "\n",
    "    union_single_class = pred_single_class | gt_single_class = [[True, True],\n",
    "                                                                [True, False]]\n",
    "\n",
    "So,\n",
    "\n",
    "    Intersection: 1 (the bottom left pixel)\n",
    "    Union: 3 (the top left, top right, and bottom left pixels)\n",
    "    IoU: Intersection / Union = 1/3 = 0.33\n"
   ]
  },
  {
   "cell_type": "code",
   "execution_count": 35,
   "metadata": {},
   "outputs": [
    {
     "name": "stdout",
     "output_type": "stream",
     "text": [
      "3 class Mean IOU: 0.9390014498136893\n",
      "Single class Mean IOU: 0.8177767577520657\n"
     ]
    }
   ],
   "source": [
    "class_index = 2 \n",
    "\n",
    "epsilon = 1e-7 #To avoid dividing by zero\n",
    "\n",
    "manual_iou = []\n",
    "manual_iou_single_class = []\n",
    "\n",
    "for pred, gt in zip(test_pred_masks, test_masks):\n",
    "    \n",
    "    pred = np.array(pred)\n",
    "    gt = np.array(gt)\n",
    "\n",
    "    inters = np.sum((gt == pred))\n",
    "    union = np.sum(gt >= 0) + np.sum(pred >= 0) - inters  # Union = Total in GT + Total in Pred - Intersection(to correct for the double-countingof intersection)\n",
    "\n",
    "    iou = inters / union\n",
    "    manual_iou.append(iou)\n",
    "\n",
    "    pred_single_class = (pred == class_index)\n",
    "    gt_single_class = (gt == class_index)\n",
    "\n",
    "    inters_single_class = np.sum(pred_single_class & gt_single_class)\n",
    "    union_single_class = np.sum(pred_single_class | gt_single_class)\n",
    "\n",
    "    if union_single_class > epsilon:\n",
    "        iou_single_class = inters_single_class / union_single_class\n",
    "        manual_iou_single_class.append(iou_single_class)\n",
    "\n",
    "\n",
    "mean_iou = np.mean(manual_iou)\n",
    "print(f\"3 class Mean IOU: {mean_iou}\")\n",
    "\n",
    "\n",
    "if manual_iou_single_class: \n",
    "    mean_iou_single_class = np.mean(manual_iou_single_class)\n",
    "    print(f\"Single class Mean IOU: {mean_iou_single_class}\")\n",
    "else:\n",
    "    print(\"No instances where both the predicted mask and the ground truth mask are of class 2.\")"
   ]
  }
 ],
 "metadata": {
  "kernelspec": {
   "display_name": "Python 3",
   "language": "python",
   "name": "python3"
  },
  "language_info": {
   "codemirror_mode": {
    "name": "ipython",
    "version": 3
   },
   "file_extension": ".py",
   "mimetype": "text/x-python",
   "name": "python",
   "nbconvert_exporter": "python",
   "pygments_lexer": "ipython3",
   "version": "3.8.5"
  }
 },
 "nbformat": 4,
 "nbformat_minor": 4
}
