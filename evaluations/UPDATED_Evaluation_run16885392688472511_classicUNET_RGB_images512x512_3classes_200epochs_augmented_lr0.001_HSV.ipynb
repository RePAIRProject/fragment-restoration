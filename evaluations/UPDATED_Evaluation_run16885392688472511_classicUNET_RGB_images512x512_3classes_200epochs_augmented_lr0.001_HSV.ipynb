{
 "cells": [
  {
   "cell_type": "code",
   "execution_count": 1,
   "metadata": {},
   "outputs": [],
   "source": [
    "import zipfile\n",
    "import os\n",
    "from PIL import Image\n",
    "import numpy as np\n",
    "import cv2\n",
    "from sklearn.model_selection import train_test_split\n",
    "import re\n",
    "import random\n",
    "import glob\n",
    "import matplotlib.pyplot as plt"
   ]
  },
  {
   "cell_type": "markdown",
   "metadata": {},
   "source": [
    "Define directories"
   ]
  },
  {
   "cell_type": "code",
   "execution_count": 9,
   "metadata": {},
   "outputs": [],
   "source": [
    "images_folder_original = \"/media/lucap/big_data/datasets/repair/puzzle2D/motif_segmentation/MoFF/RGB\"\n",
    "masks_folder_original = '/media/lucap/big_data/datasets/repair/puzzle2D/motif_segmentation/MoFF/segmap3c'\n",
    "images_folder_BM_removed = 'images_cropped/RGB_inpainted'\n",
    "#masks_folder_BM_removed = 'unzipped_dataset/cropped_resized_masks/'\n",
    "test_txt = \"/media/lucap/big_data/datasets/repair/puzzle2D/motif_segmentation/MoFF/test.txt\"\n",
    "validation_txt = \"/media/lucap/big_data/datasets/repair/puzzle2D/motif_segmentation/MoFF/validation.txt\"\n",
    "train_txt = \"/media/lucap/big_data/datasets/repair/puzzle2D/motif_segmentation/MoFF/train.txt\"\n",
    "pred_path = \"/home/lucap/code/fragment-restoration/runs/run9350223490688163_simplifiedUNET_RGB_images512x512_3classes_200epochs_augmented_lr0.001_HSV/results_simplified_UNET_512x512_test_set\""
   ]
  },
  {
   "cell_type": "code",
   "execution_count": null,
   "metadata": {},
   "outputs": [],
   "source": [
    "# images_folder_original = \"images_cropped/RGB/\"\n",
    "# masks_folder_original = 'gt-masks/segmap3c'\n",
    "# images_folder_BM_removed = 'images_cropped/RGB_inpainted'\n",
    "# #masks_folder_BM_removed = 'unzipped_dataset/cropped_resized_masks/'\n",
    "# test_txt = \"train-val-test/test.txt\"\n",
    "# validation_txt = \"train-val-test/validation.txt\"\n",
    "# train_txt = \"train-val-test/train.txt\"\n",
    "# pred_path = \"run16885392688472511_classicUNET_RGB_images512x512_3classes_200epochs_augmented_lr0.001_HSV/results_test_set/test_pred\""
   ]
  },
  {
   "cell_type": "markdown",
   "metadata": {},
   "source": [
    "Load and preprocess data"
   ]
  },
  {
   "cell_type": "code",
   "execution_count": 10,
   "metadata": {},
   "outputs": [
    {
     "name": "stdout",
     "output_type": "stream",
     "text": [
      "Test images, test masks and predicted test masks data loaded successfully in HSV color space.\n"
     ]
    }
   ],
   "source": [
    "def read_and_preprocess_images(image_dir, mask_dir, pred_dir, txt_file, color_space=\"HSV\", preprocessing=None):\n",
    "    images = []\n",
    "    masks = []\n",
    "    predicted_masks = []\n",
    "    new_size = (512, 512)\n",
    "    \n",
    "    with open(txt_file, 'r') as file:\n",
    "        lines = file.readlines()\n",
    "        \n",
    "        for line in lines:\n",
    "            line = line.strip().replace('\"', '')\n",
    "            \n",
    "            img_path = os.path.join(image_dir, line)\n",
    "            mask_path = os.path.join(mask_dir, line)\n",
    "            pred_mask_path = os.path.join(pred_dir, line)\n",
    "\n",
    "            img = cv2.imread(img_path)\n",
    "            mask = Image.open(mask_path).convert(\"L\").resize(new_size)\n",
    "            pred_mask = Image.open(pred_mask_path).convert(\"L\").resize(new_size)\n",
    "            \n",
    "            if color_space == \"HSV\":\n",
    "                img = cv2.cvtColor(img, cv2.COLOR_BGR2HSV)\n",
    "            else:\n",
    "                raise ValueError(f\"Invalid color space {color_space}\")\n",
    "                \n",
    "            img = cv2.resize(img, new_size)\n",
    "            \n",
    "            images.append(img)\n",
    "            masks.append(mask)\n",
    "            predicted_masks.append(pred_mask)\n",
    "            \n",
    "    return images, masks, predicted_masks\n",
    "\n",
    "\n",
    "test_images_original, test_masks, test_pred_masks = read_and_preprocess_images(images_folder_original, masks_folder_original, pred_path, test_txt, color_space=\"HSV\")\n",
    "\n",
    "print(\"Test images, test masks and predicted test masks data loaded successfully in HSV color space.\")"
   ]
  },
  {
   "cell_type": "markdown",
   "metadata": {},
   "source": [
    "Define evaluation metrics (built-in meanIOU in tensorflow multi_class/single_class)"
   ]
  },
  {
   "cell_type": "code",
   "execution_count": 21,
   "metadata": {},
   "outputs": [],
   "source": [
    "import tensorflow as tf\n",
    "from tensorflow.keras.metrics import MeanIoU\n",
    "\n",
    "class CustomMeanIoU(MeanIoU):\n",
    "    def __init__(self, num_classes):\n",
    "        super().__init__(num_classes=num_classes)\n",
    "\n",
    "    def update_state(self, y_true, y_pred, sample_weight=None):\n",
    "        y_true = tf.argmax(y_true, axis=-1)\n",
    "        y_pred = tf.argmax(y_pred, axis=-1)\n",
    "        return super().update_state(y_true, y_pred, sample_weight)\n",
    "\n",
    "\n",
    "class CustomSingleClassMeanIoU(MeanIoU):\n",
    "    def __init__(self, num_classes, class_index):\n",
    "        super().__init__(num_classes=num_classes)\n",
    "        self.class_index = class_index\n",
    "\n",
    "    def update_state(self, y_true, y_pred, sample_weight=None):\n",
    "        y_true = tf.argmax(y_true, axis=-1)\n",
    "        y_pred = tf.argmax(y_pred, axis=-1)\n",
    "        \n",
    "        # Only consider y_true and y_pred where y_true is class_index\n",
    "        mask = tf.equal(y_true, self.class_index)\n",
    "        y_true_c2 = tf.math.multiply(y_true, tf.cast(mask, tf.int64))\n",
    "        y_pred_c2 = tf.math.multiply(y_pred, tf.cast(mask, tf.int64))\n",
    "\n",
    "        return super().update_state(y_true_c2, y_pred_c2, sample_weight)\n",
    "    \n",
    "class CustomSingleClassMeanIoUAREF(MeanIoU):\n",
    "    def __init__(self, num_classes, class_index):\n",
    "        super().__init__(num_classes=num_classes)\n",
    "        self.class_index = class_index\n",
    "\n",
    "    def update_state(self, y_true, y_pred, sample_weight=None):\n",
    "        y_true = tf.argmax(y_true, axis=-1)\n",
    "        y_pred = tf.argmax(y_pred, axis=-1)\n",
    "        \n",
    "        # Only consider y_true and y_pred where y_true is class_index\n",
    "        mask = tf.equal(y_true, self.class_index)\n",
    "        \n",
    "        return super().update_state(tf.boolean_mask(y_true, mask), tf.boolean_mask(y_pred, mask), sample_weight)\n",
    "    \n",
    "num_classes = 3\n",
    "single_class_metric = CustomSingleClassMeanIoU(num_classes, 2)\n",
    "#single_class_metricAREF = CustomSingleClassMeanIoUAREF(num_classes, 2)\n"
   ]
  },
  {
   "cell_type": "markdown",
   "metadata": {},
   "source": [
    "Calculate evaluation metrics (built-in meanIOU in tensorflow multi_class/single_class)"
   ]
  },
  {
   "cell_type": "code",
   "execution_count": 29,
   "metadata": {},
   "outputs": [
    {
     "name": "stdout",
     "output_type": "stream",
     "text": [
      "Tensorflow IOU\n",
      "3 class Mean IOU: 0.9245726466178894\n",
      "Single class Mean IOU: 0.6528046727180481\n",
      "Single class Mean IOU AREF: 0.3196416199207306\n",
      "Manually Computed\n",
      "3 class Mean IOU: 0.9800371349367322\n",
      "Single class Mean IOU: 0.9436943925855746\n"
     ]
    }
   ],
   "source": [
    "# Convert to tensors and one-hot encode the masks\n",
    "test_masks_tensor = tf.convert_to_tensor([np.array(m) for m in test_masks])\n",
    "test_pred_masks_tensor = tf.convert_to_tensor([np.array(m) for m in test_pred_masks])\n",
    "\n",
    "test_masks_tensor = tf.one_hot(test_masks_tensor, num_classes)\n",
    "test_pred_masks_tensor = tf.one_hot(test_pred_masks_tensor, num_classes)\n",
    "\n",
    "print(\"Tensorflow IOU\")\n",
    "\n",
    "# Compute 3 class mean IOU\n",
    "meanIOU = CustomMeanIoU(num_classes)\n",
    "meanIOU.update_state(test_masks_tensor, test_pred_masks_tensor)\n",
    "print(f\"3 class Mean IOU: {meanIOU.result().numpy()}\")\n",
    "\n",
    "# Compute single class mean IOU\n",
    "class_index = 2\n",
    "single_class_metric = CustomSingleClassMeanIoU(num_classes, class_index)\n",
    "single_class_metric.update_state(test_masks_tensor, test_pred_masks_tensor)\n",
    "print(f\"Single class Mean IOU: {single_class_metric.result().numpy()}\")\n",
    "single_class_metricAREF = CustomSingleClassMeanIoUAREF(num_classes, class_index)\n",
    "single_class_metricAREF.update_state(test_masks_tensor, test_pred_masks_tensor)\n",
    "print(f\"Single class Mean IOU AREF: {single_class_metricAREF.result().numpy()}\")\n",
    "\n",
    "manual_iou = []\n",
    "manual_iou_single_class = []\n",
    "for pred, gt in zip(test_pred_masks_tensor, test_masks_tensor):\n",
    "    pred = pred.numpy() * 2\n",
    "    gt = gt.numpy() * 2\n",
    "#     print('pred',np.mean(pred))\n",
    "#     print('gt',np.mean(gt))\n",
    "    inters = np.sum((gt == pred))\n",
    "    union = np.sum(gt > -1)\n",
    "    inters_motif = np.sum(((gt==2)*(pred==2)>0))\n",
    "    union_motif = np.sum(((gt==2)+(pred==2))>0)\n",
    "    manual_iou.append(inters/union)\n",
    "    manual_iou_single_class.append(inters_motif/union_motif)\n",
    "\n",
    "manual_iou = np.asarray(manual_iou)\n",
    "manual_iou_single_class = np.asarray(manual_iou_single_class)\n",
    "print(\"Manually Computed\")\n",
    "print(f\"3 class Mean IOU: {np.mean(manual_iou)}\")\n",
    "print(f\"Single class Mean IOU: {np.mean(manual_iou_single_class)}\")"
   ]
  },
  {
   "cell_type": "code",
   "execution_count": null,
   "metadata": {},
   "outputs": [],
   "source": []
  }
 ],
 "metadata": {
  "kernelspec": {
   "display_name": "Python 3 (ipykernel)",
   "language": "python",
   "name": "python3"
  },
  "language_info": {
   "codemirror_mode": {
    "name": "ipython",
    "version": 3
   },
   "file_extension": ".py",
   "mimetype": "text/x-python",
   "name": "python",
   "nbconvert_exporter": "python",
   "pygments_lexer": "ipython3",
   "version": "3.9.13"
  }
 },
 "nbformat": 4,
 "nbformat_minor": 4
}
